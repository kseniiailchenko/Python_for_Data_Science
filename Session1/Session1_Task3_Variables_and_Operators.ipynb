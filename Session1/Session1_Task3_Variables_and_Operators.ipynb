{
  "nbformat": 4,
  "nbformat_minor": 0,
  "metadata": {
    "colab": {
      "provenance": []
    },
    "kernelspec": {
      "name": "python3",
      "display_name": "Python 3"
    },
    "language_info": {
      "name": "python"
    }
  },
  "cells": [
    {
      "cell_type": "markdown",
      "source": [
        "Answer each question by doing some operations with Python. Put conclusion in the comments"
      ],
      "metadata": {
        "id": "cv_Fhgw93Ns6"
      }
    },
    {
      "cell_type": "markdown",
      "source": [
        "1.1 For the following variables, use the function type() from Python to check the data type for the variables."
      ],
      "metadata": {
        "id": "jpb5_rvZiMrg"
      }
    },
    {
      "cell_type": "code",
      "source": [
        "x1 = 1.1\n",
        "x2 = \"Monday\"\n",
        "x3 = \"1.1\"\n",
        "x4 = True\n",
        "x5 = \"True\"\n",
        "x6 = -1"
      ],
      "metadata": {
        "id": "n_OE28mlhHr4"
      },
      "execution_count": null,
      "outputs": []
    },
    {
      "cell_type": "markdown",
      "source": [
        "1.2 What is the difference between variables x1 and x3?"
      ],
      "metadata": {
        "id": "myLT2Hq_hbN2"
      }
    },
    {
      "cell_type": "code",
      "source": [
        "# type(x1)"
      ],
      "metadata": {
        "colab": {
          "base_uri": "https://localhost:8080/"
        },
        "id": "kWFnsC8EhTEH",
        "outputId": "dad24c9f-691b-4716-b8ed-a57a7123255c"
      },
      "execution_count": null,
      "outputs": [
        {
          "output_type": "execute_result",
          "data": {
            "text/plain": [
              "float"
            ]
          },
          "metadata": {},
          "execution_count": 6
        }
      ]
    },
    {
      "cell_type": "code",
      "source": [],
      "metadata": {
        "colab": {
          "base_uri": "https://localhost:8080/"
        },
        "id": "c19WZD4Fh6Ea",
        "outputId": "f19ae6cb-87c2-4b50-f773-c331ac0a8b90"
      },
      "execution_count": null,
      "outputs": [
        {
          "output_type": "execute_result",
          "data": {
            "text/plain": [
              "str"
            ]
          },
          "metadata": {},
          "execution_count": 7
        }
      ]
    },
    {
      "cell_type": "markdown",
      "source": [
        "1.3 What happens if you subtract x3 from x1?"
      ],
      "metadata": {
        "id": "XCAcLsbGiC7Z"
      }
    },
    {
      "cell_type": "code",
      "source": [],
      "metadata": {
        "colab": {
          "base_uri": "https://localhost:8080/",
          "height": 217
        },
        "id": "VotvglskNG3o",
        "outputId": "906114e3-380f-4629-b6ec-aba0f6f7e87c"
      },
      "execution_count": null,
      "outputs": [
        {
          "output_type": "error",
          "ename": "TypeError",
          "evalue": "ignored",
          "traceback": [
            "\u001b[0;31m---------------------------------------------------------------------------\u001b[0m",
            "\u001b[0;31mTypeError\u001b[0m                                 Traceback (most recent call last)",
            "\u001b[0;32m<ipython-input-2-94eacf0bc019>\u001b[0m in \u001b[0;36m<module>\u001b[0;34m\u001b[0m\n\u001b[1;32m      1\u001b[0m \u001b[0mx1\u001b[0m\u001b[0;34m=\u001b[0m\u001b[0;36m1.1\u001b[0m\u001b[0;34m\u001b[0m\u001b[0;34m\u001b[0m\u001b[0m\n\u001b[1;32m      2\u001b[0m \u001b[0mx3\u001b[0m\u001b[0;34m=\u001b[0m\u001b[0;34m\"1.1\"\u001b[0m\u001b[0;34m\u001b[0m\u001b[0;34m\u001b[0m\u001b[0m\n\u001b[0;32m----> 3\u001b[0;31m \u001b[0my\u001b[0m\u001b[0;34m=\u001b[0m\u001b[0mx3\u001b[0m\u001b[0;34m-\u001b[0m\u001b[0mx1\u001b[0m\u001b[0;34m\u001b[0m\u001b[0;34m\u001b[0m\u001b[0m\n\u001b[0m\u001b[1;32m      4\u001b[0m \u001b[0mprint\u001b[0m\u001b[0;34m(\u001b[0m\u001b[0my\u001b[0m\u001b[0;34m)\u001b[0m\u001b[0;34m\u001b[0m\u001b[0;34m\u001b[0m\u001b[0m\n",
            "\u001b[0;31mTypeError\u001b[0m: unsupported operand type(s) for -: 'str' and 'float'"
          ]
        }
      ]
    },
    {
      "cell_type": "markdown",
      "source": [
        "1.4 What is the difference between variables x4 and x5?"
      ],
      "metadata": {
        "id": "y8Pj77kFNcYx"
      }
    },
    {
      "cell_type": "code",
      "source": [],
      "metadata": {
        "id": "kS0gIFYgNaB5",
        "colab": {
          "base_uri": "https://localhost:8080/"
        },
        "outputId": "51ceaf45-ba20-4a93-d3f2-07557b9bdc3b"
      },
      "execution_count": null,
      "outputs": [
        {
          "output_type": "execute_result",
          "data": {
            "text/plain": [
              "bool"
            ]
          },
          "metadata": {},
          "execution_count": 4
        }
      ]
    },
    {
      "cell_type": "code",
      "source": [],
      "metadata": {
        "colab": {
          "base_uri": "https://localhost:8080/"
        },
        "id": "aOgv5G75gJHR",
        "outputId": "96ef1f99-b8c6-49aa-9d80-1670b54e0e7a"
      },
      "execution_count": null,
      "outputs": [
        {
          "output_type": "execute_result",
          "data": {
            "text/plain": [
              "str"
            ]
          },
          "metadata": {},
          "execution_count": 5
        }
      ]
    },
    {
      "cell_type": "markdown",
      "source": [
        "1.5 What happens if you subtract x5 from x4?"
      ],
      "metadata": {
        "id": "pTdnO9sMgX5v"
      }
    },
    {
      "cell_type": "code",
      "source": [],
      "metadata": {
        "colab": {
          "base_uri": "https://localhost:8080/",
          "height": 183
        },
        "id": "sjwJ79qMgaTP",
        "outputId": "00c554b3-1909-48a7-9c11-a32ef68414fc"
      },
      "execution_count": null,
      "outputs": [
        {
          "output_type": "error",
          "ename": "TypeError",
          "evalue": "ignored",
          "traceback": [
            "\u001b[0;31m---------------------------------------------------------------------------\u001b[0m",
            "\u001b[0;31mTypeError\u001b[0m                                 Traceback (most recent call last)",
            "\u001b[0;32m<ipython-input-7-08285411ce0c>\u001b[0m in \u001b[0;36m<module>\u001b[0;34m\u001b[0m\n\u001b[0;32m----> 1\u001b[0;31m \u001b[0ma\u001b[0m\u001b[0;34m=\u001b[0m\u001b[0mx5\u001b[0m\u001b[0;34m-\u001b[0m\u001b[0mx4\u001b[0m\u001b[0;34m\u001b[0m\u001b[0;34m\u001b[0m\u001b[0m\n\u001b[0m\u001b[1;32m      2\u001b[0m \u001b[0mprint\u001b[0m\u001b[0;34m(\u001b[0m\u001b[0ma\u001b[0m\u001b[0;34m)\u001b[0m\u001b[0;34m\u001b[0m\u001b[0;34m\u001b[0m\u001b[0m\n",
            "\u001b[0;31mTypeError\u001b[0m: unsupported operand type(s) for -: 'str' and 'bool'"
          ]
        }
      ]
    },
    {
      "cell_type": "markdown",
      "source": [
        "2.1 To gather input from the user, we can use the function input(message), where “message” is a meaningful message of type str and will be displayed to the user."
      ],
      "metadata": {
        "id": "Y-o6hAK6hMxf"
      }
    },
    {
      "cell_type": "code",
      "source": [],
      "metadata": {
        "colab": {
          "base_uri": "https://localhost:8080/"
        },
        "id": "AZt-QrwnhPoQ",
        "outputId": "f4562856-86b5-485b-fefa-4a48c3f63978"
      },
      "execution_count": null,
      "outputs": [
        {
          "name": "stdout",
          "output_type": "stream",
          "text": [
            "Please enter an integer number: 2\n",
            "Please enter another integer number: 3\n"
          ]
        }
      ]
    },
    {
      "cell_type": "markdown",
      "source": [
        "Question 1: Print the values of the two variables? As you might have noticed, data type of x1 and x2 is string. Even though we entered integers, the input function converts them into string by default. Now we do some data type conversion from string to integers:"
      ],
      "metadata": {
        "id": "M0Q6QAhYiBfM"
      }
    },
    {
      "cell_type": "code",
      "source": [],
      "metadata": {
        "id": "wFCOxdpDiDoL"
      },
      "execution_count": null,
      "outputs": []
    },
    {
      "cell_type": "markdown",
      "source": [
        "Question 2: What is the data type of x1 and x2? Now perform simple comparisons between x1 and x2:\n",
        "\n",
        "Check if the two variables are equal?\n",
        "\n",
        "Check if x1 is greater than x2?\n",
        "\n",
        "Check if x2 is greater than x1?\n",
        "\n",
        "Check if x1 is not equal to x2?\n",
        "\n",
        "Store the difference between the two variables x1 and x2 in another variable x3 (subtract the smaller number from the larger number).\n",
        "\n",
        "Increment the smaller of the two variables (x1 and x2) with the difference.Use the shorthand addition operator for the same. Again check if x1 and x2 are equal or not?"
      ],
      "metadata": {
        "id": "QfPlBSqSibky"
      }
    },
    {
      "cell_type": "code",
      "source": [],
      "metadata": {
        "colab": {
          "base_uri": "https://localhost:8080/"
        },
        "id": "vuWxpve4idyU",
        "outputId": "320ab4f2-a4b5-4bd7-8731-9848029c0b96"
      },
      "execution_count": null,
      "outputs": [
        {
          "output_type": "execute_result",
          "data": {
            "text/plain": [
              "int"
            ]
          },
          "metadata": {},
          "execution_count": 11
        }
      ]
    },
    {
      "cell_type": "code",
      "source": [],
      "metadata": {
        "colab": {
          "base_uri": "https://localhost:8080/"
        },
        "id": "t_tB0bceioi8",
        "outputId": "6b6dfd90-86b9-4af9-d605-a0a0e5248acb"
      },
      "execution_count": null,
      "outputs": [
        {
          "output_type": "execute_result",
          "data": {
            "text/plain": [
              "int"
            ]
          },
          "metadata": {},
          "execution_count": 12
        }
      ]
    },
    {
      "cell_type": "code",
      "source": [],
      "metadata": {
        "colab": {
          "base_uri": "https://localhost:8080/"
        },
        "id": "FnIfSX_IjjKD",
        "outputId": "60025fa3-f0f5-41c3-e373-de127d97de7d"
      },
      "execution_count": null,
      "outputs": [
        {
          "output_type": "execute_result",
          "data": {
            "text/plain": [
              "False"
            ]
          },
          "metadata": {},
          "execution_count": 13
        }
      ]
    },
    {
      "cell_type": "code",
      "source": [],
      "metadata": {
        "colab": {
          "base_uri": "https://localhost:8080/"
        },
        "id": "dSZmA-rWkNKM",
        "outputId": "68200d60-f0fa-4b3f-b14d-623898b42446"
      },
      "execution_count": null,
      "outputs": [
        {
          "output_type": "execute_result",
          "data": {
            "text/plain": [
              "False"
            ]
          },
          "metadata": {},
          "execution_count": 15
        }
      ]
    },
    {
      "cell_type": "code",
      "source": [],
      "metadata": {
        "colab": {
          "base_uri": "https://localhost:8080/"
        },
        "id": "kPVA_vMkkSlY",
        "outputId": "4da4cd12-26f5-4136-d77c-59d1c51e32bf"
      },
      "execution_count": null,
      "outputs": [
        {
          "output_type": "execute_result",
          "data": {
            "text/plain": [
              "True"
            ]
          },
          "metadata": {},
          "execution_count": 16
        }
      ]
    },
    {
      "cell_type": "code",
      "source": [],
      "metadata": {
        "colab": {
          "base_uri": "https://localhost:8080/"
        },
        "id": "7P37YpvtkaUd",
        "outputId": "4398dfd9-2018-4887-9809-383ed39f9725"
      },
      "execution_count": null,
      "outputs": [
        {
          "output_type": "execute_result",
          "data": {
            "text/plain": [
              "True"
            ]
          },
          "metadata": {},
          "execution_count": 17
        }
      ]
    },
    {
      "cell_type": "code",
      "source": [],
      "metadata": {
        "colab": {
          "base_uri": "https://localhost:8080/"
        },
        "id": "eLtx18hboWD6",
        "outputId": "ae4a88ff-2d31-4dc7-d01b-17798d46b199"
      },
      "execution_count": null,
      "outputs": [
        {
          "output_type": "stream",
          "name": "stdout",
          "text": [
            "1\n"
          ]
        }
      ]
    },
    {
      "cell_type": "code",
      "source": [],
      "metadata": {
        "colab": {
          "base_uri": "https://localhost:8080/"
        },
        "id": "7lS6ZsNZox7O",
        "outputId": "bb2579cd-420d-448a-8d77-6ee57b31b04d"
      },
      "execution_count": null,
      "outputs": [
        {
          "output_type": "stream",
          "name": "stdout",
          "text": [
            "3\n"
          ]
        },
        {
          "output_type": "execute_result",
          "data": {
            "text/plain": [
              "False"
            ]
          },
          "metadata": {},
          "execution_count": 21
        }
      ]
    }
  ]
}
